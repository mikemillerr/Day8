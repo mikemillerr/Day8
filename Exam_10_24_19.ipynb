{
 "cells": [
  {
   "cell_type": "markdown",
   "metadata": {},
   "source": [
    "## 1: Linear regression is a supervised method?\n",
    "Answer: True\n"
   ]
  },
  {
   "cell_type": "markdown",
   "metadata": {},
   "source": [
    "## 2. Which method do we use to find the best fit in linear regression?\n",
    "### a) least squared error\n",
    "### b) maximum likelyhood\n",
    "### c) log loss\n",
    "### d) both a and b\n",
    "Answer:  a"
   ]
  },
  {
   "cell_type": "markdown",
   "metadata": {},
   "source": [
    "## 3. Which of the following is true for residuals?\n",
    "### a) lower is better\n",
    "### b) higher is better\n",
    "### c) a or b, depends on the situation\n",
    "### d) none of these\n",
    "Answer: a"
   ]
  },
  {
   "cell_type": "markdown",
   "metadata": {},
   "source": [
    "## 4. What will happend when you fit degree 2 polynominal in linear regression?\n",
    "Answer: Linear regression will not result in a good prediction, since the underlying function is not linear. "
   ]
  },
  {
   "cell_type": "markdown",
   "metadata": {},
   "source": [
    "## 5. Is it possible to design a linear regression algorithm with neural networks?\n",
    "Answer: True"
   ]
  },
  {
   "cell_type": "markdown",
   "metadata": {},
   "source": [
    "## 6. Which of the following evalution metrics can be used to evaluted a model while modeling a continuous output variable?\n",
    "### a) AUC-ROC\n",
    "### b) Accuracy\n",
    "### c) Log-loss\n",
    "### d) MSE\n",
    "Answer: b,c and d"
   ]
  },
  {
   "cell_type": "markdown",
   "metadata": {},
   "source": [
    "## 7. Which of the following statements about outliers in linear regression?\n",
    "### a) LG is sensitive to outliers\n",
    "### b) LG is not sensitive to outliers\n",
    "### c) can't say\n",
    "### d) none of those\n",
    "Answer: a) when used with mse"
   ]
  },
  {
   "cell_type": "markdown",
   "metadata": {},
   "source": [
    "## 8. Suppose you plotted a scatter plot between the residuals and predicted values and you found that there is a relationship between them. What does that mean?\n",
    "### a) Model is good\n",
    "### b) Model is not good\n",
    "### c) Can't say\n",
    "### d) None of those\n",
    "Answer: b)"
   ]
  },
  {
   "cell_type": "markdown",
   "metadata": {},
   "source": [
    "## 9. Suppose we have N independed variables and depended variable Y. Imagen we apply by LG by fitting the best fit line using LSE on this data. We found that coorelation coef. for one of its variable, say x_1 with Y = 0.95. Which of the following is true for x_1. \n",
    "### a) relation x and y is weak\n",
    "### b) relation x and y is strong\n",
    "### c) relation x and y neutral\n",
    "### d) can't say\n",
    "Answer: b - Since x_1 and Y have a strong coorelaton, they will change in a similar way. Thats why their relation is strong"
   ]
  },
  {
   "cell_type": "markdown",
   "metadata": {},
   "source": [
    "## 10. Suppose you have a dataset d_1 and you design a LG-model of deg 3 polynominal and we found that the training and testing error is zero. What will happen when we fit a deg 4 polynominal?\n",
    "### a) deg 4 will overfit the data\n",
    "### b) deg 4 will underfit the data\n",
    "### c) can't say\n",
    "### d) none\n",
    "Answer: b)"
   ]
  },
  {
   "cell_type": "markdown",
   "metadata": {},
   "source": []
  }
 ],
 "metadata": {
  "kernelspec": {
   "display_name": "Python [conda env:nf] *",
   "language": "python",
   "name": "conda-env-nf-py"
  },
  "language_info": {
   "codemirror_mode": {
    "name": "ipython",
    "version": 3
   },
   "file_extension": ".py",
   "mimetype": "text/x-python",
   "name": "python",
   "nbconvert_exporter": "python",
   "pygments_lexer": "ipython3",
   "version": "3.6.6"
  }
 },
 "nbformat": 4,
 "nbformat_minor": 2
}
